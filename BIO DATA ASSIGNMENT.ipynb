{
 "cells": [
  {
   "cell_type": "code",
   "execution_count": 1,
   "metadata": {},
   "outputs": [],
   "source": [
    "name = \"ABDUR RAFAY\"\n"
   ]
  },
  {
   "cell_type": "code",
   "execution_count": 2,
   "metadata": {},
   "outputs": [],
   "source": [
    "Date_Of_Birth = \"31-07-2001\""
   ]
  },
  {
   "cell_type": "code",
   "execution_count": 3,
   "metadata": {},
   "outputs": [],
   "source": [
    "gender = \"Male\""
   ]
  },
  {
   "cell_type": "code",
   "execution_count": 4,
   "metadata": {},
   "outputs": [],
   "source": [
    "qualification = \"BSCS(first semester)\""
   ]
  },
  {
   "cell_type": "code",
   "execution_count": 5,
   "metadata": {},
   "outputs": [],
   "source": [
    "nationality = \"Pakistani\""
   ]
  },
  {
   "cell_type": "code",
   "execution_count": 6,
   "metadata": {},
   "outputs": [],
   "source": [
    "religion = \"Islam\""
   ]
  },
  {
   "cell_type": "code",
   "execution_count": 7,
   "metadata": {},
   "outputs": [],
   "source": [
    "permenant_address = \"A-400 Block C, North Nazimabad, Karachi\""
   ]
  },
  {
   "cell_type": "code",
   "execution_count": 9,
   "metadata": {},
   "outputs": [],
   "source": [
    "cell_no = \"0331-2735464\""
   ]
  },
  {
   "cell_type": "code",
   "execution_count": 10,
   "metadata": {},
   "outputs": [
    {
     "name": "stdout",
     "output_type": "stream",
     "text": [
      "My name is ABDUR RAFAY\n",
      "Date of birth :-  31-07-2001\n",
      "Gender :-  Male\n",
      "My qualification is BSCS(first semester)\n",
      "Nationality :- Pakistani\n",
      "Religion :-  Islam\n",
      "Permenant address :-  A-400 Block C, North Nazimabad, Karachi\n",
      "Cell_no 0331-2735464\n"
     ]
    }
   ],
   "source": [
    "print(\"My name is\" , name)\n",
    "print(\"Date of birth :- \" , Date_Of_Birth)\n",
    "print(\"Gender :- \" , gender)\n",
    "print(\"My qualification is\" , qualification)\n",
    "print(\"Nationality :-\" , nationality)\n",
    "print(\"Religion :- \" , religion)\n",
    "print(\"Permenant address :- \" , permenant_address)\n",
    "print(\"Cell_no\" , cell_no)"
   ]
  }
 ],
 "metadata": {
  "kernelspec": {
   "display_name": "Python 3",
   "language": "python",
   "name": "python3"
  },
  "language_info": {
   "codemirror_mode": {
    "name": "ipython",
    "version": 3
   },
   "file_extension": ".py",
   "mimetype": "text/x-python",
   "name": "python",
   "nbconvert_exporter": "python",
   "pygments_lexer": "ipython3",
   "version": "3.7.4"
  }
 },
 "nbformat": 4,
 "nbformat_minor": 2
}
